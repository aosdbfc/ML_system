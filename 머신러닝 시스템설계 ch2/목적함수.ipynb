{
 "cells": [
  {
   "cell_type": "markdown",
   "id": "cef6cc25",
   "metadata": {},
   "source": [
    "## 목적함수\n",
    "\n",
    "- ML 모델에는 학습 프로세스를 이끌어갈 목적함수가 필요\n",
    "- 목적 함수는 손실 함수라고도 함\n",
    "- 지도 학습 ML에서는 손실을 계산할 때 모델 출력과 그라운드 트루스 레이블을 비교하며 평균 제곱근 오차(RMSE)나 교차 엔트로피 같은 측정 값을 사용\n",
    "\n",
    "## 목적함수를 선택하는 일\n",
    "\n",
    "- 목적 함수 자체를 이해하는 건 쉽지 않음\n",
    "- 의미 있는 목적 함수를 만들려면 대수학 지식이 필요하므로 대부분의 ML 엔지니어는 보편적인 손실 함수를 사용\n",
    "- 회귀 ( RMSE, MAE 등 ) \n",
    "- 이진분류 (로지스틱 손실 - 로그 손실)\n",
    "- 다중 클래스 분류: 교차 엔트로피 사용"
   ]
  },
  {
   "cell_type": "code",
   "execution_count": 15,
   "id": "300af91a",
   "metadata": {},
   "outputs": [
    {
     "data": {
      "text/plain": [
       "1.1086626245216111"
      ]
     },
     "execution_count": 15,
     "metadata": {},
     "output_type": "execute_result"
    }
   ],
   "source": [
    "import numpy as np\n",
    "\n",
    "def cross_entropy(p , q):\n",
    "    return -sum([p[i] * np.log(q[i]) for i in range(len(p))])\n",
    "\n",
    "\n",
    "p = [0,0,0,1]\n",
    "q = [0.45, 0.2, 0.02, 0.33]\n",
    "cross_entropy(p,q)"
   ]
  },
  {
   "cell_type": "code",
   "execution_count": 16,
   "id": "bcb9ecb6",
   "metadata": {},
   "outputs": [
    {
     "data": {
      "text/plain": [
       "1.9474117700025113"
      ]
     },
     "execution_count": 16,
     "metadata": {},
     "output_type": "execute_result"
    }
   ],
   "source": [
    "from random import random, randint, randrange\n",
    "\n",
    "p1 = random()\n",
    "p2 = random()\n",
    "p3 = random()\n",
    "p4 = random()\n",
    "\n",
    "q1 = random()\n",
    "q2 = random()\n",
    "q3 = random()\n",
    "q4 = random()\n",
    "\n",
    "p_list = [p1,p2,p3,p4]\n",
    "q_list = [q2,q2,q3,q4]\n",
    "\n",
    "cross_entropy(p_list,q_list)"
   ]
  },
  {
   "cell_type": "markdown",
   "id": "1f5215bc",
   "metadata": {},
   "source": [
    "### 목적함수가 어려개일 때! \n",
    "\n",
    "- 목적함수가 여러 개일 때는 일반적으로 각각 분리하는 편이 좋습니다\n",
    "- 모델 개발과 유지 관리가 더 용이하기 때문\n",
    "- 첫째로는 모델을 다시 학습하지 않아도 되니 시스템을 조정하기가 더 쉽다\n",
    "- 둘째로는 목적 함수마다 유지 관리 일정이 상이할 경우 유지 관리가 더 용이하다"
   ]
  },
  {
   "cell_type": "code",
   "execution_count": null,
   "id": "6454124d",
   "metadata": {},
   "outputs": [],
   "source": []
  }
 ],
 "metadata": {
  "kernelspec": {
   "display_name": "Python 3 (ipykernel)",
   "language": "python",
   "name": "python3"
  },
  "language_info": {
   "codemirror_mode": {
    "name": "ipython",
    "version": 3
   },
   "file_extension": ".py",
   "mimetype": "text/x-python",
   "name": "python",
   "nbconvert_exporter": "python",
   "pygments_lexer": "ipython3",
   "version": "3.9.13"
  }
 },
 "nbformat": 4,
 "nbformat_minor": 5
}
